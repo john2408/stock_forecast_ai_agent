{
 "cells": [
  {
   "cell_type": "markdown",
   "metadata": {},
   "source": [
    "# Stock Price Forecasting AI Agent\n",
    "\n",
    "This project is an AI-powered function-calling agent designed to forecast stock prices based on user-defined parameters. By leveraging the OpenAI API and advanced neural forecasting models, this agent enables users to receive accurate stock predictions for specified periods. The project is tailored for financial analysts, traders, and developers seeking quick, AI-driven insights into stock trends.\n",
    "\n",
    "## Features\n",
    "\n",
    "- **Customizable Forecast Period**: Users can specify the number of days (`prediction_days`) for the stock forecast, providing flexibility based on individual needs.\n",
    "- **Function Calling with OpenAI API**: The agent uses OpenAI's function calling capabilities to interpret user prompts, extract relevant details like `stock_symbol` and `prediction_days`, and trigger the forecast function.\n",
    "- **Advanced Forecasting Model**: Integrates the Forecasting LLM model Chronos from AWS.\n",
    "- **Automatic Data Retrieval**: Pulls historical stock data from Yahoo Finance, processes it, and prepares the dataset for model training and prediction.\n",
    "\n",
    "## Workflow\n",
    "\n",
    "1. **User Prompt**: The user specifies a stock symbol (e.g., \"AAPL\" or \"MSFT\") and a forecast duration in days.\n",
    "2. **Agent Function Calling**: The agent, powered by OpenAI API, parses the prompt to identify the stock symbol and prediction days.\n",
    "3. **Data Retrieval and Preparation**: Stock data is retrieved for the past year and preprocessed for the forecasting model.\n",
    "4. **Forecast Generation**: Using NBEATS, the agent generates a stock price forecast, returning a dataframe with dates, predictions, and the ticker symbol.\n",
    "\n",
    "## Example Usage\n",
    "\n",
    "1. **Define User Request**: \"Get stock price forecast for Qualcomm for 15 days.\"\n",
    "2. **Agent Identifies Parameters**: The function schema parses `stock_symbol` as \"QCOM\" and `prediction_days` as 15.\n",
    "3. **Generate and Output Forecast**: The agent calls the `get_stock_forecast` function, providing a 15-day forecast.\n",
    "\n",
    "## Installation\n",
    "\n",
    "1. Clone the repository:\n",
    "   ```bash\n",
    "   git clone <repository-url>\n",
    "   cd <repository-name>"
   ]
  },
  {
   "cell_type": "code",
   "execution_count": 1,
   "metadata": {},
   "outputs": [
    {
     "name": "stderr",
     "output_type": "stream",
     "text": [
      "/Users/johtorr/Repos/stock_forecast_ai_agent/.venv/lib/python3.12/site-packages/tqdm/auto.py:21: TqdmWarning: IProgress not found. Please update jupyter and ipywidgets. See https://ipywidgets.readthedocs.io/en/stable/user_install.html\n",
      "  from .autonotebook import tqdm as notebook_tqdm\n"
     ]
    }
   ],
   "source": [
    "import yfinance as yf\n",
    "import plotly.graph_objects as go\n",
    "import torch\n",
    "from chronos import ChronosPipeline\n",
    "import pandas as pd\n",
    "import numpy as np\n",
    "from datetime import datetime, timedelta\n",
    "import matplotlib.pyplot as plt\n",
    "from typing import Dict, List, Tuple\n"
   ]
  },
  {
   "cell_type": "code",
   "execution_count": 10,
   "metadata": {},
   "outputs": [],
   "source": [
    "import requests\n",
    "import os\n",
    "import json\n",
    "import plotly.graph_objects as go"
   ]
  },
  {
   "cell_type": "markdown",
   "metadata": {},
   "source": [
    "## Define Forecasting Function \n",
    "\n",
    "Use LLM Chronos Model from AWS."
   ]
  },
  {
   "cell_type": "code",
   "execution_count": 3,
   "metadata": {},
   "outputs": [],
   "source": [
    "def get_stock_forecast(stock_symbol: str, prediction_days: int = 10) -> Tuple[pd.DataFrame, pd.DataFrame]:\n",
    "    \"\"\"Forecasting function for any given ticker\n",
    "\n",
    "    Args:\n",
    "        stock_symbol (str): The stock symbol to forecast (e.g., 'AAPL', 'MSFT').\n",
    "        prediction_days (int, optional): The prediction days. Defaults to 10.\n",
    "\n",
    "    Returns:\n",
    "        pd.DataFrame: Dataframe containing: \n",
    "            - ticker (string)\n",
    "            - date (datetime.date)\n",
    "            - prediction (float)\n",
    "    \"\"\"\n",
    "\n",
    "    stock_data = yf.download(stock_symbol, period=\"1y\", interval=\"1d\")\n",
    "    \n",
    "    stock_data = stock_data.reset_index().rename(columns={\"Date\": \"ds\", \"Close\": \"y\"})\n",
    "    stock_data = stock_data[[\"ds\", \"y\"]].copy()\n",
    "    stock_data.columns = [\"ds\", \"y\"]\n",
    "    stock_data['unique_id'] = stock_symbol\n",
    "\n",
    "    pipeline = ChronosPipeline.from_pretrained(\n",
    "    \"amazon/chronos-t5-small\",\n",
    "    device_map=\"mps\", # configure Mac MPS GPU\n",
    "    torch_dtype=torch.bfloat16,\n",
    "    )   \n",
    "\n",
    "    historical_data = stock_data['y'].tolist()\n",
    "\n",
    "    context = torch.tensor(historical_data)\n",
    "\n",
    "    # predict using LLM model by passing context data\n",
    "    forecasts = pipeline.predict(context, prediction_days)  \n",
    "\n",
    "    df_forecast = pd.DataFrame()\n",
    "    for ts_key, forecast in zip([stock_symbol], forecasts):\n",
    "        low, median, high = np.quantile(forecast.numpy(), [0.1, 0.5, 0.9], axis=0)\n",
    "\n",
    "        df_forecast = pd.DataFrame({'forecast_lower': low,\n",
    "                            'forecast_median':median,\n",
    "                            'forecast_high':high\n",
    "                            })\n",
    "        df_forecast['ticker'] = ts_key\n",
    "\n",
    "    return df_forecast, stock_data"
   ]
  },
  {
   "cell_type": "code",
   "execution_count": 4,
   "metadata": {},
   "outputs": [
    {
     "name": "stderr",
     "output_type": "stream",
     "text": [
      "[*********************100%***********************]  1 of 1 completed\n"
     ]
    },
    {
     "data": {
      "text/html": [
       "<div>\n",
       "<style scoped>\n",
       "    .dataframe tbody tr th:only-of-type {\n",
       "        vertical-align: middle;\n",
       "    }\n",
       "\n",
       "    .dataframe tbody tr th {\n",
       "        vertical-align: top;\n",
       "    }\n",
       "\n",
       "    .dataframe thead th {\n",
       "        text-align: right;\n",
       "    }\n",
       "</style>\n",
       "<table border=\"1\" class=\"dataframe\">\n",
       "  <thead>\n",
       "    <tr style=\"text-align: right;\">\n",
       "      <th></th>\n",
       "      <th>forecast_lower</th>\n",
       "      <th>forecast_median</th>\n",
       "      <th>forecast_high</th>\n",
       "      <th>ticker</th>\n",
       "    </tr>\n",
       "  </thead>\n",
       "  <tbody>\n",
       "    <tr>\n",
       "      <th>0</th>\n",
       "      <td>342.450800</td>\n",
       "      <td>348.560410</td>\n",
       "      <td>367.359177</td>\n",
       "      <td>TSLA</td>\n",
       "    </tr>\n",
       "    <tr>\n",
       "      <th>1</th>\n",
       "      <td>333.208099</td>\n",
       "      <td>353.260086</td>\n",
       "      <td>366.419244</td>\n",
       "      <td>TSLA</td>\n",
       "    </tr>\n",
       "    <tr>\n",
       "      <th>2</th>\n",
       "      <td>333.521414</td>\n",
       "      <td>351.693527</td>\n",
       "      <td>365.009338</td>\n",
       "      <td>TSLA</td>\n",
       "    </tr>\n",
       "    <tr>\n",
       "      <th>3</th>\n",
       "      <td>327.098462</td>\n",
       "      <td>349.343689</td>\n",
       "      <td>377.698495</td>\n",
       "      <td>TSLA</td>\n",
       "    </tr>\n",
       "    <tr>\n",
       "      <th>4</th>\n",
       "      <td>331.954852</td>\n",
       "      <td>353.260086</td>\n",
       "      <td>388.977750</td>\n",
       "      <td>TSLA</td>\n",
       "    </tr>\n",
       "  </tbody>\n",
       "</table>\n",
       "</div>"
      ],
      "text/plain": [
       "   forecast_lower  forecast_median  forecast_high ticker\n",
       "0      342.450800       348.560410     367.359177   TSLA\n",
       "1      333.208099       353.260086     366.419244   TSLA\n",
       "2      333.521414       351.693527     365.009338   TSLA\n",
       "3      327.098462       349.343689     377.698495   TSLA\n",
       "4      331.954852       353.260086     388.977750   TSLA"
      ]
     },
     "execution_count": 4,
     "metadata": {},
     "output_type": "execute_result"
    }
   ],
   "source": [
    "# Test the function\n",
    "df_forecast, stock_data = get_stock_forecast('TSLA', 20)\n",
    "df_forecast.head()"
   ]
  },
  {
   "cell_type": "markdown",
   "metadata": {},
   "source": [
    "## Create the Stock Forecasting Agent"
   ]
  },
  {
   "cell_type": "code",
   "execution_count": 7,
   "metadata": {},
   "outputs": [],
   "source": [
    "\n",
    "def stock_forecast_agent(prompt: str)-> Tuple[pd.DataFrame, pd.DataFrame, Dict]:\n",
    "    \"\"\"Using OpenAI api and GPT4mini predict the stock price \n",
    "    of a company available in the Yahoo Finance API for any days in the futures.\n",
    "\n",
    "    Args:\n",
    "        prompt (str): the user prompt\n",
    "    \"\"\"\n",
    "        \n",
    "    api_key = os.environ['OPENAI_API_KEY']\n",
    "    endpoint = \"https://api.openai.com/v1/chat/completions\"\n",
    "\n",
    "    headers = {\n",
    "        \"Content-Type\": \"application/json\",\n",
    "        \"Authorization\": f\"Bearer {api_key}\"\n",
    "    }\n",
    "\n",
    "    # Define the function schema for OpenAI function calling\n",
    "    function_schema = {\n",
    "        \"name\": \"get_stock_forecast\",\n",
    "        \"description\": \"Get stock price forecast for a given number of days\",\n",
    "        \"parameters\": {\n",
    "            \"type\": \"object\",\n",
    "            \"properties\": {\n",
    "                \"stock_symbol\": {\n",
    "                    \"type\": \"string\",\n",
    "                    \"description\": \"The stock symbol to forecast (e.g., 'AAPL', 'MSFT').\"\n",
    "                },\n",
    "                \"prediction_days\": {\n",
    "                    \"type\": \"integer\",\n",
    "                    \"description\": \"The number of days to forecast prices for.\"\n",
    "                }\n",
    "            },\n",
    "            \"required\": [\"stock_symbol\"]\n",
    "        }\n",
    "    }\n",
    "\n",
    "    messages = [\n",
    "        {\"role\": \"user\", \"content\": prompt}\n",
    "    ]\n",
    "\n",
    "    data = {\n",
    "        \"model\": \"gpt-4o-mini\",  \n",
    "        \"messages\": messages,\n",
    "        \"functions\": [function_schema],\n",
    "        \"function_call\": \"auto\"\n",
    "    }\n",
    "\n",
    "    response = requests.post(endpoint, headers=headers, data=json.dumps(data))\n",
    "\n",
    "    if response.status_code == 200:\n",
    "        result = response.json()\n",
    "        function_call = result[\"choices\"][0].get(\"message\", {}).get(\"function_call\")\n",
    "\n",
    "        if function_call:\n",
    "            arguments = json.loads(function_call[\"arguments\"])\n",
    "            stock_symbol = arguments[\"stock_symbol\"]\n",
    "            prediction_days = arguments.get(\"prediction_days\", 10)\n",
    "            df_forecast, df_historical_data = get_stock_forecast(stock_symbol, prediction_days)\n",
    "        else:\n",
    "            print(result[\"choices\"][0][\"message\"][\"content\"])\n",
    "    else:\n",
    "        print(f\"Request failed with status code {response.status_code}: {response.text}\")\n",
    "\n",
    "    return df_forecast, df_historical_data, arguments\n"
   ]
  },
  {
   "cell_type": "code",
   "execution_count": 12,
   "metadata": {},
   "outputs": [
    {
     "name": "stderr",
     "output_type": "stream",
     "text": [
      "[*********************100%***********************]  1 of 1 completed\n"
     ]
    },
    {
     "name": "stdout",
     "output_type": "stream",
     "text": [
      "   forecast_lower  forecast_median  forecast_high ticker\n",
      "0      334.928024       348.556992     363.595865   TSLA\n",
      "1      338.217795       349.340256     365.162421   TSLA\n",
      "2      328.661819       347.773712     374.091730   TSLA\n",
      "3      330.228375       346.990448     370.958643   TSLA\n",
      "4      325.058768       345.423904     367.668878   TSLA\n"
     ]
    }
   ],
   "source": [
    "prompt = \"Get stock price forecast for TESLA for 15 days\"\n",
    "forecast, df_historical_data, arguments = stock_forecast_agent(prompt=prompt)\n",
    "print(forecast.head())"
   ]
  },
  {
   "cell_type": "markdown",
   "metadata": {},
   "source": [
    "## Plot Historical Data and Forecast Values"
   ]
  },
  {
   "cell_type": "code",
   "execution_count": 13,
   "metadata": {},
   "outputs": [
    {
     "data": {
      "application/vnd.plotly.v1+json": {
       "config": {
        "plotlyServerURL": "https://plot.ly"
       },
       "data": [
        {
         "line": {
          "color": "blue"
         },
         "mode": "lines",
         "name": "Historical Price",
         "type": "scatter",
         "x": [
          "2024-07-01T00:00:00.000000000",
          "2024-07-02T00:00:00.000000000",
          "2024-07-03T00:00:00.000000000",
          "2024-07-05T00:00:00.000000000",
          "2024-07-08T00:00:00.000000000",
          "2024-07-09T00:00:00.000000000",
          "2024-07-10T00:00:00.000000000",
          "2024-07-11T00:00:00.000000000",
          "2024-07-12T00:00:00.000000000",
          "2024-07-15T00:00:00.000000000",
          "2024-07-16T00:00:00.000000000",
          "2024-07-17T00:00:00.000000000",
          "2024-07-18T00:00:00.000000000",
          "2024-07-19T00:00:00.000000000",
          "2024-07-22T00:00:00.000000000",
          "2024-07-23T00:00:00.000000000",
          "2024-07-24T00:00:00.000000000",
          "2024-07-25T00:00:00.000000000",
          "2024-07-26T00:00:00.000000000",
          "2024-07-29T00:00:00.000000000",
          "2024-07-30T00:00:00.000000000",
          "2024-07-31T00:00:00.000000000",
          "2024-08-01T00:00:00.000000000",
          "2024-08-02T00:00:00.000000000",
          "2024-08-05T00:00:00.000000000",
          "2024-08-06T00:00:00.000000000",
          "2024-08-07T00:00:00.000000000",
          "2024-08-08T00:00:00.000000000",
          "2024-08-09T00:00:00.000000000",
          "2024-08-12T00:00:00.000000000",
          "2024-08-13T00:00:00.000000000",
          "2024-08-14T00:00:00.000000000",
          "2024-08-15T00:00:00.000000000",
          "2024-08-16T00:00:00.000000000",
          "2024-08-19T00:00:00.000000000",
          "2024-08-20T00:00:00.000000000",
          "2024-08-21T00:00:00.000000000",
          "2024-08-22T00:00:00.000000000",
          "2024-08-23T00:00:00.000000000",
          "2024-08-26T00:00:00.000000000",
          "2024-08-27T00:00:00.000000000",
          "2024-08-28T00:00:00.000000000",
          "2024-08-29T00:00:00.000000000",
          "2024-08-30T00:00:00.000000000",
          "2024-09-03T00:00:00.000000000",
          "2024-09-04T00:00:00.000000000",
          "2024-09-05T00:00:00.000000000",
          "2024-09-06T00:00:00.000000000",
          "2024-09-09T00:00:00.000000000",
          "2024-09-10T00:00:00.000000000",
          "2024-09-11T00:00:00.000000000",
          "2024-09-12T00:00:00.000000000",
          "2024-09-13T00:00:00.000000000",
          "2024-09-16T00:00:00.000000000",
          "2024-09-17T00:00:00.000000000",
          "2024-09-18T00:00:00.000000000",
          "2024-09-19T00:00:00.000000000",
          "2024-09-20T00:00:00.000000000",
          "2024-09-23T00:00:00.000000000",
          "2024-09-24T00:00:00.000000000",
          "2024-09-25T00:00:00.000000000",
          "2024-09-26T00:00:00.000000000",
          "2024-09-27T00:00:00.000000000",
          "2024-09-30T00:00:00.000000000",
          "2024-10-01T00:00:00.000000000",
          "2024-10-02T00:00:00.000000000",
          "2024-10-03T00:00:00.000000000",
          "2024-10-04T00:00:00.000000000",
          "2024-10-07T00:00:00.000000000",
          "2024-10-08T00:00:00.000000000",
          "2024-10-09T00:00:00.000000000",
          "2024-10-10T00:00:00.000000000",
          "2024-10-11T00:00:00.000000000",
          "2024-10-14T00:00:00.000000000",
          "2024-10-15T00:00:00.000000000",
          "2024-10-16T00:00:00.000000000",
          "2024-10-17T00:00:00.000000000",
          "2024-10-18T00:00:00.000000000",
          "2024-10-21T00:00:00.000000000",
          "2024-10-22T00:00:00.000000000",
          "2024-10-23T00:00:00.000000000",
          "2024-10-24T00:00:00.000000000",
          "2024-10-25T00:00:00.000000000",
          "2024-10-28T00:00:00.000000000",
          "2024-10-29T00:00:00.000000000",
          "2024-10-30T00:00:00.000000000",
          "2024-10-31T00:00:00.000000000",
          "2024-11-01T00:00:00.000000000",
          "2024-11-04T00:00:00.000000000",
          "2024-11-05T00:00:00.000000000",
          "2024-11-06T00:00:00.000000000",
          "2024-11-07T00:00:00.000000000",
          "2024-11-08T00:00:00.000000000",
          "2024-11-11T00:00:00.000000000",
          "2024-11-12T00:00:00.000000000",
          "2024-11-13T00:00:00.000000000",
          "2024-11-14T00:00:00.000000000",
          "2024-11-15T00:00:00.000000000",
          "2024-11-18T00:00:00.000000000",
          "2024-11-19T00:00:00.000000000"
         ],
         "y": [
          209.86000061035156,
          231.25999450683594,
          246.38999938964844,
          251.52000427246094,
          252.94000244140625,
          262.3299865722656,
          263.260009765625,
          241.02999877929688,
          248.22999572753906,
          252.63999938964844,
          256.55999755859375,
          248.5,
          249.22999572753906,
          239.1999969482422,
          251.50999450683594,
          246.3800048828125,
          215.99000549316406,
          220.25,
          219.8000030517578,
          232.10000610351562,
          222.6199951171875,
          232.07000732421875,
          216.86000061035156,
          207.6699981689453,
          198.8800048828125,
          200.63999938964844,
          191.75999450683594,
          198.83999633789062,
          200,
          197.49000549316406,
          207.8300018310547,
          201.3800048828125,
          214.13999938964844,
          216.1199951171875,
          222.72000122070312,
          221.10000610351562,
          223.27000427246094,
          210.66000366210938,
          220.32000732421875,
          213.2100067138672,
          209.2100067138672,
          205.75,
          206.27999877929688,
          214.11000061035156,
          210.60000610351562,
          219.41000366210938,
          230.1699981689453,
          210.72999572753906,
          216.27000427246094,
          226.1699981689453,
          228.1300048828125,
          229.80999755859375,
          230.2899932861328,
          226.77999877929688,
          227.8699951171875,
          227.1999969482422,
          243.9199981689453,
          238.25,
          250,
          254.27000427246094,
          257.0199890136719,
          254.22000122070312,
          260.4599914550781,
          261.6300048828125,
          258.0199890136719,
          249.02000427246094,
          240.66000366210938,
          250.0800018310547,
          240.8300018310547,
          244.5,
          241.0500030517578,
          238.77000427246094,
          217.8000030517578,
          219.16000366210938,
          219.57000732421875,
          221.3300018310547,
          220.88999938964844,
          220.6999969482422,
          218.85000610351562,
          217.97000122070312,
          213.64999389648438,
          260.4800109863281,
          269.19000244140625,
          262.510009765625,
          259.5199890136719,
          257.54998779296875,
          249.85000610351562,
          248.97999572753906,
          242.83999633789062,
          251.44000244140625,
          288.5299987792969,
          296.9100036621094,
          321.2200012207031,
          350,
          328.489990234375,
          330.239990234375,
          311.17999267578125,
          320.7200012207031,
          338.739990234375,
          345.73388671875
         ]
        },
        {
         "line": {
          "color": "orange"
         },
         "mode": "lines",
         "name": "Median Forecast",
         "type": "scatter",
         "x": [
          "2024-11-20T00:00:00",
          "2024-11-21T00:00:00",
          "2024-11-22T00:00:00",
          "2024-11-23T00:00:00",
          "2024-11-24T00:00:00",
          "2024-11-25T00:00:00",
          "2024-11-26T00:00:00",
          "2024-11-27T00:00:00",
          "2024-11-28T00:00:00",
          "2024-11-29T00:00:00",
          "2024-11-30T00:00:00",
          "2024-12-01T00:00:00",
          "2024-12-02T00:00:00",
          "2024-12-03T00:00:00",
          "2024-12-04T00:00:00"
         ],
         "y": [
          348.55699157714844,
          349.3402557373047,
          347.7737121582031,
          346.9904479980469,
          345.4239044189453,
          346.9904479980469,
          346.9904479980469,
          346.20716857910156,
          344.640625,
          344.640625,
          322.7089385986328,
          310.9598388671875,
          328.1918640136719,
          325.0587615966797,
          313.3096618652344
         ]
        },
        {
         "fill": "toself",
         "fillcolor": "rgba(255, 165, 0, 0.3)",
         "line": {
          "color": "rgba(255, 165, 0, 0)"
         },
         "name": "Forecast Range (Low-High)",
         "type": "scatter",
         "x": [
          "2024-11-20T00:00:00",
          "2024-11-21T00:00:00",
          "2024-11-22T00:00:00",
          "2024-11-23T00:00:00",
          "2024-11-24T00:00:00",
          "2024-11-25T00:00:00",
          "2024-11-26T00:00:00",
          "2024-11-27T00:00:00",
          "2024-11-28T00:00:00",
          "2024-11-29T00:00:00",
          "2024-11-30T00:00:00",
          "2024-12-01T00:00:00",
          "2024-12-02T00:00:00",
          "2024-12-03T00:00:00",
          "2024-12-04T00:00:00",
          "2024-12-04T00:00:00",
          "2024-12-03T00:00:00",
          "2024-12-02T00:00:00",
          "2024-12-01T00:00:00",
          "2024-11-30T00:00:00",
          "2024-11-29T00:00:00",
          "2024-11-28T00:00:00",
          "2024-11-27T00:00:00",
          "2024-11-26T00:00:00",
          "2024-11-25T00:00:00",
          "2024-11-24T00:00:00",
          "2024-11-23T00:00:00",
          "2024-11-22T00:00:00",
          "2024-11-21T00:00:00",
          "2024-11-20T00:00:00"
         ],
         "y": [
          363.5958648681641,
          365.16242065429685,
          374.09172973632815,
          370.958642578125,
          367.66887817382815,
          358.11293334960936,
          357.64296875,
          365.4757293701172,
          360.6194305419922,
          360.6194305419922,
          358.89621887207034,
          362.02930603027346,
          353.4132873535156,
          352.1600555419922,
          366.7289520263672,
          273.9892822265625,
          273.5193176269531,
          278.68895263671874,
          284.79847717285156,
          297.4875122070313,
          302.6571319580078,
          307.9833953857422,
          312.68304443359375,
          316.2860961914063,
          326.93860778808596,
          325.0587677001953,
          330.22837524414064,
          328.6618194580078,
          338.21779479980466,
          334.9280242919922
         ]
        }
       ],
       "layout": {
        "legend": {
         "orientation": "h",
         "x": 1,
         "xanchor": "right",
         "y": 1.02,
         "yanchor": "bottom"
        },
        "template": {
         "data": {
          "bar": [
           {
            "error_x": {
             "color": "#2a3f5f"
            },
            "error_y": {
             "color": "#2a3f5f"
            },
            "marker": {
             "line": {
              "color": "white",
              "width": 0.5
             },
             "pattern": {
              "fillmode": "overlay",
              "size": 10,
              "solidity": 0.2
             }
            },
            "type": "bar"
           }
          ],
          "barpolar": [
           {
            "marker": {
             "line": {
              "color": "white",
              "width": 0.5
             },
             "pattern": {
              "fillmode": "overlay",
              "size": 10,
              "solidity": 0.2
             }
            },
            "type": "barpolar"
           }
          ],
          "carpet": [
           {
            "aaxis": {
             "endlinecolor": "#2a3f5f",
             "gridcolor": "#C8D4E3",
             "linecolor": "#C8D4E3",
             "minorgridcolor": "#C8D4E3",
             "startlinecolor": "#2a3f5f"
            },
            "baxis": {
             "endlinecolor": "#2a3f5f",
             "gridcolor": "#C8D4E3",
             "linecolor": "#C8D4E3",
             "minorgridcolor": "#C8D4E3",
             "startlinecolor": "#2a3f5f"
            },
            "type": "carpet"
           }
          ],
          "choropleth": [
           {
            "colorbar": {
             "outlinewidth": 0,
             "ticks": ""
            },
            "type": "choropleth"
           }
          ],
          "contour": [
           {
            "colorbar": {
             "outlinewidth": 0,
             "ticks": ""
            },
            "colorscale": [
             [
              0,
              "#0d0887"
             ],
             [
              0.1111111111111111,
              "#46039f"
             ],
             [
              0.2222222222222222,
              "#7201a8"
             ],
             [
              0.3333333333333333,
              "#9c179e"
             ],
             [
              0.4444444444444444,
              "#bd3786"
             ],
             [
              0.5555555555555556,
              "#d8576b"
             ],
             [
              0.6666666666666666,
              "#ed7953"
             ],
             [
              0.7777777777777778,
              "#fb9f3a"
             ],
             [
              0.8888888888888888,
              "#fdca26"
             ],
             [
              1,
              "#f0f921"
             ]
            ],
            "type": "contour"
           }
          ],
          "contourcarpet": [
           {
            "colorbar": {
             "outlinewidth": 0,
             "ticks": ""
            },
            "type": "contourcarpet"
           }
          ],
          "heatmap": [
           {
            "colorbar": {
             "outlinewidth": 0,
             "ticks": ""
            },
            "colorscale": [
             [
              0,
              "#0d0887"
             ],
             [
              0.1111111111111111,
              "#46039f"
             ],
             [
              0.2222222222222222,
              "#7201a8"
             ],
             [
              0.3333333333333333,
              "#9c179e"
             ],
             [
              0.4444444444444444,
              "#bd3786"
             ],
             [
              0.5555555555555556,
              "#d8576b"
             ],
             [
              0.6666666666666666,
              "#ed7953"
             ],
             [
              0.7777777777777778,
              "#fb9f3a"
             ],
             [
              0.8888888888888888,
              "#fdca26"
             ],
             [
              1,
              "#f0f921"
             ]
            ],
            "type": "heatmap"
           }
          ],
          "heatmapgl": [
           {
            "colorbar": {
             "outlinewidth": 0,
             "ticks": ""
            },
            "colorscale": [
             [
              0,
              "#0d0887"
             ],
             [
              0.1111111111111111,
              "#46039f"
             ],
             [
              0.2222222222222222,
              "#7201a8"
             ],
             [
              0.3333333333333333,
              "#9c179e"
             ],
             [
              0.4444444444444444,
              "#bd3786"
             ],
             [
              0.5555555555555556,
              "#d8576b"
             ],
             [
              0.6666666666666666,
              "#ed7953"
             ],
             [
              0.7777777777777778,
              "#fb9f3a"
             ],
             [
              0.8888888888888888,
              "#fdca26"
             ],
             [
              1,
              "#f0f921"
             ]
            ],
            "type": "heatmapgl"
           }
          ],
          "histogram": [
           {
            "marker": {
             "pattern": {
              "fillmode": "overlay",
              "size": 10,
              "solidity": 0.2
             }
            },
            "type": "histogram"
           }
          ],
          "histogram2d": [
           {
            "colorbar": {
             "outlinewidth": 0,
             "ticks": ""
            },
            "colorscale": [
             [
              0,
              "#0d0887"
             ],
             [
              0.1111111111111111,
              "#46039f"
             ],
             [
              0.2222222222222222,
              "#7201a8"
             ],
             [
              0.3333333333333333,
              "#9c179e"
             ],
             [
              0.4444444444444444,
              "#bd3786"
             ],
             [
              0.5555555555555556,
              "#d8576b"
             ],
             [
              0.6666666666666666,
              "#ed7953"
             ],
             [
              0.7777777777777778,
              "#fb9f3a"
             ],
             [
              0.8888888888888888,
              "#fdca26"
             ],
             [
              1,
              "#f0f921"
             ]
            ],
            "type": "histogram2d"
           }
          ],
          "histogram2dcontour": [
           {
            "colorbar": {
             "outlinewidth": 0,
             "ticks": ""
            },
            "colorscale": [
             [
              0,
              "#0d0887"
             ],
             [
              0.1111111111111111,
              "#46039f"
             ],
             [
              0.2222222222222222,
              "#7201a8"
             ],
             [
              0.3333333333333333,
              "#9c179e"
             ],
             [
              0.4444444444444444,
              "#bd3786"
             ],
             [
              0.5555555555555556,
              "#d8576b"
             ],
             [
              0.6666666666666666,
              "#ed7953"
             ],
             [
              0.7777777777777778,
              "#fb9f3a"
             ],
             [
              0.8888888888888888,
              "#fdca26"
             ],
             [
              1,
              "#f0f921"
             ]
            ],
            "type": "histogram2dcontour"
           }
          ],
          "mesh3d": [
           {
            "colorbar": {
             "outlinewidth": 0,
             "ticks": ""
            },
            "type": "mesh3d"
           }
          ],
          "parcoords": [
           {
            "line": {
             "colorbar": {
              "outlinewidth": 0,
              "ticks": ""
             }
            },
            "type": "parcoords"
           }
          ],
          "pie": [
           {
            "automargin": true,
            "type": "pie"
           }
          ],
          "scatter": [
           {
            "fillpattern": {
             "fillmode": "overlay",
             "size": 10,
             "solidity": 0.2
            },
            "type": "scatter"
           }
          ],
          "scatter3d": [
           {
            "line": {
             "colorbar": {
              "outlinewidth": 0,
              "ticks": ""
             }
            },
            "marker": {
             "colorbar": {
              "outlinewidth": 0,
              "ticks": ""
             }
            },
            "type": "scatter3d"
           }
          ],
          "scattercarpet": [
           {
            "marker": {
             "colorbar": {
              "outlinewidth": 0,
              "ticks": ""
             }
            },
            "type": "scattercarpet"
           }
          ],
          "scattergeo": [
           {
            "marker": {
             "colorbar": {
              "outlinewidth": 0,
              "ticks": ""
             }
            },
            "type": "scattergeo"
           }
          ],
          "scattergl": [
           {
            "marker": {
             "colorbar": {
              "outlinewidth": 0,
              "ticks": ""
             }
            },
            "type": "scattergl"
           }
          ],
          "scattermapbox": [
           {
            "marker": {
             "colorbar": {
              "outlinewidth": 0,
              "ticks": ""
             }
            },
            "type": "scattermapbox"
           }
          ],
          "scatterpolar": [
           {
            "marker": {
             "colorbar": {
              "outlinewidth": 0,
              "ticks": ""
             }
            },
            "type": "scatterpolar"
           }
          ],
          "scatterpolargl": [
           {
            "marker": {
             "colorbar": {
              "outlinewidth": 0,
              "ticks": ""
             }
            },
            "type": "scatterpolargl"
           }
          ],
          "scatterternary": [
           {
            "marker": {
             "colorbar": {
              "outlinewidth": 0,
              "ticks": ""
             }
            },
            "type": "scatterternary"
           }
          ],
          "surface": [
           {
            "colorbar": {
             "outlinewidth": 0,
             "ticks": ""
            },
            "colorscale": [
             [
              0,
              "#0d0887"
             ],
             [
              0.1111111111111111,
              "#46039f"
             ],
             [
              0.2222222222222222,
              "#7201a8"
             ],
             [
              0.3333333333333333,
              "#9c179e"
             ],
             [
              0.4444444444444444,
              "#bd3786"
             ],
             [
              0.5555555555555556,
              "#d8576b"
             ],
             [
              0.6666666666666666,
              "#ed7953"
             ],
             [
              0.7777777777777778,
              "#fb9f3a"
             ],
             [
              0.8888888888888888,
              "#fdca26"
             ],
             [
              1,
              "#f0f921"
             ]
            ],
            "type": "surface"
           }
          ],
          "table": [
           {
            "cells": {
             "fill": {
              "color": "#EBF0F8"
             },
             "line": {
              "color": "white"
             }
            },
            "header": {
             "fill": {
              "color": "#C8D4E3"
             },
             "line": {
              "color": "white"
             }
            },
            "type": "table"
           }
          ]
         },
         "layout": {
          "annotationdefaults": {
           "arrowcolor": "#2a3f5f",
           "arrowhead": 0,
           "arrowwidth": 1
          },
          "autotypenumbers": "strict",
          "coloraxis": {
           "colorbar": {
            "outlinewidth": 0,
            "ticks": ""
           }
          },
          "colorscale": {
           "diverging": [
            [
             0,
             "#8e0152"
            ],
            [
             0.1,
             "#c51b7d"
            ],
            [
             0.2,
             "#de77ae"
            ],
            [
             0.3,
             "#f1b6da"
            ],
            [
             0.4,
             "#fde0ef"
            ],
            [
             0.5,
             "#f7f7f7"
            ],
            [
             0.6,
             "#e6f5d0"
            ],
            [
             0.7,
             "#b8e186"
            ],
            [
             0.8,
             "#7fbc41"
            ],
            [
             0.9,
             "#4d9221"
            ],
            [
             1,
             "#276419"
            ]
           ],
           "sequential": [
            [
             0,
             "#0d0887"
            ],
            [
             0.1111111111111111,
             "#46039f"
            ],
            [
             0.2222222222222222,
             "#7201a8"
            ],
            [
             0.3333333333333333,
             "#9c179e"
            ],
            [
             0.4444444444444444,
             "#bd3786"
            ],
            [
             0.5555555555555556,
             "#d8576b"
            ],
            [
             0.6666666666666666,
             "#ed7953"
            ],
            [
             0.7777777777777778,
             "#fb9f3a"
            ],
            [
             0.8888888888888888,
             "#fdca26"
            ],
            [
             1,
             "#f0f921"
            ]
           ],
           "sequentialminus": [
            [
             0,
             "#0d0887"
            ],
            [
             0.1111111111111111,
             "#46039f"
            ],
            [
             0.2222222222222222,
             "#7201a8"
            ],
            [
             0.3333333333333333,
             "#9c179e"
            ],
            [
             0.4444444444444444,
             "#bd3786"
            ],
            [
             0.5555555555555556,
             "#d8576b"
            ],
            [
             0.6666666666666666,
             "#ed7953"
            ],
            [
             0.7777777777777778,
             "#fb9f3a"
            ],
            [
             0.8888888888888888,
             "#fdca26"
            ],
            [
             1,
             "#f0f921"
            ]
           ]
          },
          "colorway": [
           "#636efa",
           "#EF553B",
           "#00cc96",
           "#ab63fa",
           "#FFA15A",
           "#19d3f3",
           "#FF6692",
           "#B6E880",
           "#FF97FF",
           "#FECB52"
          ],
          "font": {
           "color": "#2a3f5f"
          },
          "geo": {
           "bgcolor": "white",
           "lakecolor": "white",
           "landcolor": "white",
           "showlakes": true,
           "showland": true,
           "subunitcolor": "#C8D4E3"
          },
          "hoverlabel": {
           "align": "left"
          },
          "hovermode": "closest",
          "mapbox": {
           "style": "light"
          },
          "paper_bgcolor": "white",
          "plot_bgcolor": "white",
          "polar": {
           "angularaxis": {
            "gridcolor": "#EBF0F8",
            "linecolor": "#EBF0F8",
            "ticks": ""
           },
           "bgcolor": "white",
           "radialaxis": {
            "gridcolor": "#EBF0F8",
            "linecolor": "#EBF0F8",
            "ticks": ""
           }
          },
          "scene": {
           "xaxis": {
            "backgroundcolor": "white",
            "gridcolor": "#DFE8F3",
            "gridwidth": 2,
            "linecolor": "#EBF0F8",
            "showbackground": true,
            "ticks": "",
            "zerolinecolor": "#EBF0F8"
           },
           "yaxis": {
            "backgroundcolor": "white",
            "gridcolor": "#DFE8F3",
            "gridwidth": 2,
            "linecolor": "#EBF0F8",
            "showbackground": true,
            "ticks": "",
            "zerolinecolor": "#EBF0F8"
           },
           "zaxis": {
            "backgroundcolor": "white",
            "gridcolor": "#DFE8F3",
            "gridwidth": 2,
            "linecolor": "#EBF0F8",
            "showbackground": true,
            "ticks": "",
            "zerolinecolor": "#EBF0F8"
           }
          },
          "shapedefaults": {
           "line": {
            "color": "#2a3f5f"
           }
          },
          "ternary": {
           "aaxis": {
            "gridcolor": "#DFE8F3",
            "linecolor": "#A2B1C6",
            "ticks": ""
           },
           "baxis": {
            "gridcolor": "#DFE8F3",
            "linecolor": "#A2B1C6",
            "ticks": ""
           },
           "bgcolor": "white",
           "caxis": {
            "gridcolor": "#DFE8F3",
            "linecolor": "#A2B1C6",
            "ticks": ""
           }
          },
          "title": {
           "x": 0.05
          },
          "xaxis": {
           "automargin": true,
           "gridcolor": "#EBF0F8",
           "linecolor": "#EBF0F8",
           "ticks": "",
           "title": {
            "standoff": 15
           },
           "zerolinecolor": "#EBF0F8",
           "zerolinewidth": 2
          },
          "yaxis": {
           "automargin": true,
           "gridcolor": "#EBF0F8",
           "linecolor": "#EBF0F8",
           "ticks": "",
           "title": {
            "standoff": 15
           },
           "zerolinecolor": "#EBF0F8",
           "zerolinewidth": 2
          }
         }
        },
        "title": {
         "text": "TSLA Historical Data and Forecast"
        },
        "xaxis": {
         "title": {
          "text": "Date"
         }
        },
        "yaxis": {
         "title": {
          "text": "Price"
         }
        }
       }
      }
     },
     "metadata": {},
     "output_type": "display_data"
    }
   ],
   "source": [
    "historical_horizon = 100\n",
    "stock_symbol = arguments[\"stock_symbol\"]\n",
    "prediction_days = arguments.get(\"prediction_days\", 10)\n",
    "historical_dates = df_historical_data['ds'].values[-historical_horizon:]\n",
    "historical_prices = df_historical_data['y'].values[-historical_horizon:]\n",
    "\n",
    "forecast_dates = pd.date_range(\n",
    "    start=historical_dates[-1] + pd.Timedelta(days=1), periods=prediction_days\n",
    ")\n",
    "\n",
    "fig = go.Figure()\n",
    "\n",
    "# Add historical data\n",
    "fig.add_trace(go.Scatter(\n",
    "    x=historical_dates,\n",
    "    y=historical_prices,\n",
    "    mode='lines',\n",
    "    name='Historical Price',\n",
    "    line=dict(color='blue')\n",
    "))\n",
    "\n",
    "# Add forecast median\n",
    "fig.add_trace(go.Scatter(\n",
    "    x=forecast_dates,\n",
    "    y=forecast[\"forecast_median\"],\n",
    "    mode='lines',\n",
    "    name='Median Forecast',\n",
    "    line=dict(color='orange')\n",
    "))\n",
    "\n",
    "# Add forecast range (low-high) as a filled area\n",
    "fig.add_trace(go.Scatter(\n",
    "    x=forecast_dates.tolist() + forecast_dates[::-1].tolist(),\n",
    "    y=forecast[\"forecast_high\"].tolist() + forecast[\"forecast_lower\"][::-1].tolist(),\n",
    "    fill='toself',\n",
    "    name='Forecast Range (Low-High)',\n",
    "    fillcolor='rgba(255, 165, 0, 0.3)',\n",
    "    line=dict(color='rgba(255, 165, 0, 0)')\n",
    "))\n",
    "\n",
    "# Customize the layout\n",
    "fig.update_layout(\n",
    "    title=f\"{stock_symbol} Historical Data and Forecast\",\n",
    "    xaxis_title=\"Date\",\n",
    "    yaxis_title=\"Price\",\n",
    "    legend=dict(orientation=\"h\", yanchor=\"bottom\", y=1.02, xanchor=\"right\", x=1),\n",
    "    template=\"plotly_white\"\n",
    ")\n",
    "\n",
    "fig.show()"
   ]
  },
  {
   "cell_type": "code",
   "execution_count": null,
   "metadata": {},
   "outputs": [],
   "source": []
  }
 ],
 "metadata": {
  "kernelspec": {
   "display_name": ".venv",
   "language": "python",
   "name": "python3"
  },
  "language_info": {
   "codemirror_mode": {
    "name": "ipython",
    "version": 3
   },
   "file_extension": ".py",
   "mimetype": "text/x-python",
   "name": "python",
   "nbconvert_exporter": "python",
   "pygments_lexer": "ipython3",
   "version": "3.12.4"
  }
 },
 "nbformat": 4,
 "nbformat_minor": 2
}
