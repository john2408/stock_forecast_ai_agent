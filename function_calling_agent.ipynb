{
 "cells": [
  {
   "cell_type": "markdown",
   "metadata": {},
   "source": [
    "# Stock Price Forecasting AI Agent\n",
    "\n",
    "This project is an AI-powered function-calling agent designed to forecast stock prices based on user-defined parameters. By leveraging the OpenAI API and advanced neural forecasting models, this agent enables users to receive accurate stock predictions for specified periods. The project is tailored for financial analysts, traders, and developers seeking quick, AI-driven insights into stock trends.\n",
    "\n",
    "## Features\n",
    "\n",
    "- **Customizable Forecast Period**: Users can specify the number of days (`prediction_days`) for the stock forecast, providing flexibility based on individual needs.\n",
    "- **Function Calling with OpenAI API**: The agent uses OpenAI's function calling capabilities to interpret user prompts, extract relevant details like `stock_symbol` and `prediction_days`, and trigger the forecast function.\n",
    "- **Advanced Forecasting Model**: Integrates the NeuralForecast framework with the NBEATS model for high-accuracy predictions using daily stock data from Yahoo Finance.\n",
    "- **Automatic Data Retrieval**: Pulls historical stock data from Yahoo Finance, processes it, and prepares the dataset for model training and prediction.\n",
    "\n",
    "## Workflow\n",
    "\n",
    "1. **User Prompt**: The user specifies a stock symbol (e.g., \"AAPL\" or \"MSFT\") and a forecast duration in days.\n",
    "2. **Agent Function Calling**: The agent, powered by OpenAI API, parses the prompt to identify the stock symbol and prediction days.\n",
    "3. **Data Retrieval and Preparation**: Stock data is retrieved for the past year and preprocessed for the forecasting model.\n",
    "4. **Forecast Generation**: Using NBEATS, the agent generates a stock price forecast, returning a dataframe with dates, predictions, and the ticker symbol.\n",
    "\n",
    "## Example Usage\n",
    "\n",
    "1. **Define User Request**: \"Get stock price forecast for Qualcomm for 15 days.\"\n",
    "2. **Agent Identifies Parameters**: The function schema parses `stock_symbol` as \"QCOM\" and `prediction_days` as 15.\n",
    "3. **Generate and Output Forecast**: The agent calls the `get_stock_forecast` function, providing a 15-day forecast.\n",
    "\n",
    "## Installation\n",
    "\n",
    "1. Clone the repository:\n",
    "   ```bash\n",
    "   git clone <repository-url>\n",
    "   cd <repository-name>"
   ]
  },
  {
   "cell_type": "code",
   "execution_count": 1,
   "metadata": {},
   "outputs": [
    {
     "name": "stderr",
     "output_type": "stream",
     "text": [
      "/Users/johtorr/Repos/llm-local-rag/.venv/lib/python3.12/site-packages/tqdm/auto.py:21: TqdmWarning: IProgress not found. Please update jupyter and ipywidgets. See https://ipywidgets.readthedocs.io/en/stable/user_install.html\n",
      "  from .autonotebook import tqdm as notebook_tqdm\n",
      "2024-11-15 14:25:03,458\tINFO util.py:154 -- Missing packages: ['ipywidgets']. Run `pip install -U ipywidgets`, then restart the notebook server for rich notebook output.\n",
      "2024-11-15 14:25:03,602\tINFO util.py:154 -- Missing packages: ['ipywidgets']. Run `pip install -U ipywidgets`, then restart the notebook server for rich notebook output.\n"
     ]
    }
   ],
   "source": [
    "import yfinance as yf\n",
    "from neuralforecast import NeuralForecast\n",
    "from neuralforecast.models import NBEATS\n",
    "import pandas as pd\n",
    "from datetime import datetime, timedelta"
   ]
  },
  {
   "cell_type": "markdown",
   "metadata": {},
   "source": [
    "## Define Forecasting Function \n",
    "\n",
    "Use Deep Learning Model NBEATS from nitxla. "
   ]
  },
  {
   "cell_type": "code",
   "execution_count": null,
   "metadata": {},
   "outputs": [],
   "source": [
    "def get_stock_forecast(stock_symbol: str, prediction_days: int = 10) -> pd.DataFrame:\n",
    "    \"\"\"Forecasting function for any given ticker\n",
    "\n",
    "    Args:\n",
    "        stock_symbol (str): The stock symbol to forecast (e.g., 'AAPL', 'MSFT').\n",
    "        prediction_days (int, optional): The prediction days. Defaults to 10.\n",
    "\n",
    "    Returns:\n",
    "        pd.DataFrame: Dataframe containing: \n",
    "            - ticker (string)\n",
    "            - date (datetime.date)\n",
    "            - prediction (float)\n",
    "    \"\"\"\n",
    "    \n",
    "    FREQUENCY='D'\n",
    "    val_size = prediction_days \n",
    "\n",
    "    stock_data = yf.download(stock_symbol, period=\"1y\", interval=\"1d\")\n",
    "    max_encoder_length = int(stock_data.shape[0]/10)\n",
    "    \n",
    "    stock_data = stock_data.reset_index().rename(columns={\"Date\": \"ds\", \"Close\": \"y\"})\n",
    "    stock_data = stock_data[[\"ds\", \"y\"]].copy()\n",
    "    stock_data.columns = [\"ds\", \"y\"]\n",
    "    stock_data['unique_id'] = stock_symbol\n",
    "\n",
    "    models = [\n",
    "        NBEATS(\n",
    "            input_size=max_encoder_length,\n",
    "            h=prediction_days,\n",
    "            max_steps=max_encoder_length,\n",
    "        ),\n",
    "    ]\n",
    "\n",
    "    nf = NeuralForecast(models=models, freq=FREQUENCY)\n",
    "    nf.fit(df=stock_data, val_size=val_size, verbose=False)\n",
    "    future_dates = nf.predict().reset_index()\n",
    "    future_dates = future_dates.rename(columns={'unique_id':'ticker', 'ds':'date', 'NBEATS':'prediction'})\n",
    "\n",
    "    return future_dates\n"
   ]
  },
  {
   "cell_type": "code",
   "execution_count": null,
   "metadata": {},
   "outputs": [
    {
     "name": "stderr",
     "output_type": "stream",
     "text": [
      "[*********************100%***********************]  1 of 1 completed\n",
      "Seed set to 1\n",
      "/Users/johtorr/Repos/llm-local-rag/.venv/lib/python3.12/site-packages/neuralforecast/common/_base_model.py:345: UserWarning: val_check_steps is greater than max_steps, setting val_check_steps to max_steps.\n",
      "  warnings.warn(\n",
      "GPU available: True (mps), used: True\n",
      "TPU available: False, using: 0 TPU cores\n",
      "HPU available: False, using: 0 HPUs\n",
      "\n",
      "  | Name         | Type          | Params | Mode \n",
      "-------------------------------------------------------\n",
      "0 | loss         | MAE           | 0      | train\n",
      "1 | padder_train | ConstantPad1d | 0      | train\n",
      "2 | scaler       | TemporalNorm  | 0      | train\n",
      "3 | blocks       | ModuleList    | 2.5 M  | train\n",
      "-------------------------------------------------------\n",
      "2.5 M     Trainable params\n",
      "1.8 K     Non-trainable params\n",
      "2.5 M     Total params\n",
      "9.883     Total estimated model params size (MB)\n",
      "31        Modules in train mode\n",
      "0         Modules in eval mode\n"
     ]
    },
    {
     "name": "stdout",
     "output_type": "stream",
     "text": [
      "Epoch 24: 100%|██████████| 1/1 [00:00<00:00, 26.40it/s, v_num=3, train_loss_step=16.30, train_loss_epoch=16.30, valid_loss=52.60]"
     ]
    },
    {
     "name": "stderr",
     "output_type": "stream",
     "text": [
      "`Trainer.fit` stopped: `max_steps=25` reached.\n"
     ]
    },
    {
     "name": "stdout",
     "output_type": "stream",
     "text": [
      "Epoch 24: 100%|██████████| 1/1 [00:00<00:00, 25.40it/s, v_num=3, train_loss_step=16.30, train_loss_epoch=16.30, valid_loss=52.60]\n"
     ]
    },
    {
     "name": "stderr",
     "output_type": "stream",
     "text": [
      "GPU available: True (mps), used: True\n",
      "TPU available: False, using: 0 TPU cores\n",
      "HPU available: False, using: 0 HPUs\n"
     ]
    },
    {
     "name": "stdout",
     "output_type": "stream",
     "text": [
      "Predicting DataLoader 0: 100%|██████████| 1/1 [00:00<00:00, 147.36it/s]\n"
     ]
    },
    {
     "name": "stderr",
     "output_type": "stream",
     "text": [
      "/Users/johtorr/Repos/llm-local-rag/.venv/lib/python3.12/site-packages/neuralforecast/core.py:210: FutureWarning: In a future version the predictions will have the id as a column. You can set the `NIXTLA_ID_AS_COL` environment variable to adopt the new behavior and to suppress this warning.\n",
      "  warnings.warn(\n"
     ]
    },
    {
     "data": {
      "text/html": [
       "<div>\n",
       "<style scoped>\n",
       "    .dataframe tbody tr th:only-of-type {\n",
       "        vertical-align: middle;\n",
       "    }\n",
       "\n",
       "    .dataframe tbody tr th {\n",
       "        vertical-align: top;\n",
       "    }\n",
       "\n",
       "    .dataframe thead th {\n",
       "        text-align: right;\n",
       "    }\n",
       "</style>\n",
       "<table border=\"1\" class=\"dataframe\">\n",
       "  <thead>\n",
       "    <tr style=\"text-align: right;\">\n",
       "      <th></th>\n",
       "      <th>ticker</th>\n",
       "      <th>date</th>\n",
       "      <th>prediction</th>\n",
       "    </tr>\n",
       "  </thead>\n",
       "  <tbody>\n",
       "    <tr>\n",
       "      <th>0</th>\n",
       "      <td>TSLA</td>\n",
       "      <td>2024-11-15 00:00:00+00:00</td>\n",
       "      <td>303.157288</td>\n",
       "    </tr>\n",
       "    <tr>\n",
       "      <th>1</th>\n",
       "      <td>TSLA</td>\n",
       "      <td>2024-11-16 00:00:00+00:00</td>\n",
       "      <td>317.190094</td>\n",
       "    </tr>\n",
       "    <tr>\n",
       "      <th>2</th>\n",
       "      <td>TSLA</td>\n",
       "      <td>2024-11-17 00:00:00+00:00</td>\n",
       "      <td>315.939606</td>\n",
       "    </tr>\n",
       "    <tr>\n",
       "      <th>3</th>\n",
       "      <td>TSLA</td>\n",
       "      <td>2024-11-18 00:00:00+00:00</td>\n",
       "      <td>306.839996</td>\n",
       "    </tr>\n",
       "    <tr>\n",
       "      <th>4</th>\n",
       "      <td>TSLA</td>\n",
       "      <td>2024-11-19 00:00:00+00:00</td>\n",
       "      <td>305.162506</td>\n",
       "    </tr>\n",
       "    <tr>\n",
       "      <th>5</th>\n",
       "      <td>TSLA</td>\n",
       "      <td>2024-11-20 00:00:00+00:00</td>\n",
       "      <td>298.665222</td>\n",
       "    </tr>\n",
       "    <tr>\n",
       "      <th>6</th>\n",
       "      <td>TSLA</td>\n",
       "      <td>2024-11-21 00:00:00+00:00</td>\n",
       "      <td>305.226959</td>\n",
       "    </tr>\n",
       "    <tr>\n",
       "      <th>7</th>\n",
       "      <td>TSLA</td>\n",
       "      <td>2024-11-22 00:00:00+00:00</td>\n",
       "      <td>300.748383</td>\n",
       "    </tr>\n",
       "    <tr>\n",
       "      <th>8</th>\n",
       "      <td>TSLA</td>\n",
       "      <td>2024-11-23 00:00:00+00:00</td>\n",
       "      <td>297.048279</td>\n",
       "    </tr>\n",
       "    <tr>\n",
       "      <th>9</th>\n",
       "      <td>TSLA</td>\n",
       "      <td>2024-11-24 00:00:00+00:00</td>\n",
       "      <td>297.853699</td>\n",
       "    </tr>\n",
       "    <tr>\n",
       "      <th>10</th>\n",
       "      <td>TSLA</td>\n",
       "      <td>2024-11-25 00:00:00+00:00</td>\n",
       "      <td>296.955353</td>\n",
       "    </tr>\n",
       "    <tr>\n",
       "      <th>11</th>\n",
       "      <td>TSLA</td>\n",
       "      <td>2024-11-26 00:00:00+00:00</td>\n",
       "      <td>297.986389</td>\n",
       "    </tr>\n",
       "    <tr>\n",
       "      <th>12</th>\n",
       "      <td>TSLA</td>\n",
       "      <td>2024-11-27 00:00:00+00:00</td>\n",
       "      <td>302.557343</td>\n",
       "    </tr>\n",
       "    <tr>\n",
       "      <th>13</th>\n",
       "      <td>TSLA</td>\n",
       "      <td>2024-11-28 00:00:00+00:00</td>\n",
       "      <td>306.756897</td>\n",
       "    </tr>\n",
       "    <tr>\n",
       "      <th>14</th>\n",
       "      <td>TSLA</td>\n",
       "      <td>2024-11-29 00:00:00+00:00</td>\n",
       "      <td>296.552521</td>\n",
       "    </tr>\n",
       "    <tr>\n",
       "      <th>15</th>\n",
       "      <td>TSLA</td>\n",
       "      <td>2024-11-30 00:00:00+00:00</td>\n",
       "      <td>290.490936</td>\n",
       "    </tr>\n",
       "    <tr>\n",
       "      <th>16</th>\n",
       "      <td>TSLA</td>\n",
       "      <td>2024-12-01 00:00:00+00:00</td>\n",
       "      <td>287.127106</td>\n",
       "    </tr>\n",
       "    <tr>\n",
       "      <th>17</th>\n",
       "      <td>TSLA</td>\n",
       "      <td>2024-12-02 00:00:00+00:00</td>\n",
       "      <td>302.722382</td>\n",
       "    </tr>\n",
       "    <tr>\n",
       "      <th>18</th>\n",
       "      <td>TSLA</td>\n",
       "      <td>2024-12-03 00:00:00+00:00</td>\n",
       "      <td>289.537903</td>\n",
       "    </tr>\n",
       "    <tr>\n",
       "      <th>19</th>\n",
       "      <td>TSLA</td>\n",
       "      <td>2024-12-04 00:00:00+00:00</td>\n",
       "      <td>279.322205</td>\n",
       "    </tr>\n",
       "  </tbody>\n",
       "</table>\n",
       "</div>"
      ],
      "text/plain": [
       "   ticker                      date  prediction\n",
       "0    TSLA 2024-11-15 00:00:00+00:00  303.157288\n",
       "1    TSLA 2024-11-16 00:00:00+00:00  317.190094\n",
       "2    TSLA 2024-11-17 00:00:00+00:00  315.939606\n",
       "3    TSLA 2024-11-18 00:00:00+00:00  306.839996\n",
       "4    TSLA 2024-11-19 00:00:00+00:00  305.162506\n",
       "5    TSLA 2024-11-20 00:00:00+00:00  298.665222\n",
       "6    TSLA 2024-11-21 00:00:00+00:00  305.226959\n",
       "7    TSLA 2024-11-22 00:00:00+00:00  300.748383\n",
       "8    TSLA 2024-11-23 00:00:00+00:00  297.048279\n",
       "9    TSLA 2024-11-24 00:00:00+00:00  297.853699\n",
       "10   TSLA 2024-11-25 00:00:00+00:00  296.955353\n",
       "11   TSLA 2024-11-26 00:00:00+00:00  297.986389\n",
       "12   TSLA 2024-11-27 00:00:00+00:00  302.557343\n",
       "13   TSLA 2024-11-28 00:00:00+00:00  306.756897\n",
       "14   TSLA 2024-11-29 00:00:00+00:00  296.552521\n",
       "15   TSLA 2024-11-30 00:00:00+00:00  290.490936\n",
       "16   TSLA 2024-12-01 00:00:00+00:00  287.127106\n",
       "17   TSLA 2024-12-02 00:00:00+00:00  302.722382\n",
       "18   TSLA 2024-12-03 00:00:00+00:00  289.537903\n",
       "19   TSLA 2024-12-04 00:00:00+00:00  279.322205"
      ]
     },
     "execution_count": 14,
     "metadata": {},
     "output_type": "execute_result"
    }
   ],
   "source": [
    "# Test the function\n",
    "get_stock_forecast('TSLA', 20)"
   ]
  },
  {
   "cell_type": "markdown",
   "metadata": {},
   "source": [
    "## Create the Stock Forecasting Agent"
   ]
  },
  {
   "cell_type": "code",
   "execution_count": 21,
   "metadata": {},
   "outputs": [],
   "source": [
    "import requests\n",
    "import json\n",
    "import os\n",
    "\n",
    "def stock_forecast_agent(prompt: str)-> None:\n",
    "    \"\"\"Using OpenAI api and GPT4mini predict the stock price \n",
    "    of a company available in the Yahoo Finance API for any days in the futures.\n",
    "\n",
    "    Args:\n",
    "        prompt (str): the user prompt\n",
    "    \"\"\"\n",
    "        \n",
    "    api_key = os.environ['OPENAI_API_KEY']\n",
    "    endpoint = \"https://api.openai.com/v1/chat/completions\"\n",
    "\n",
    "    headers = {\n",
    "        \"Content-Type\": \"application/json\",\n",
    "        \"Authorization\": f\"Bearer {api_key}\"\n",
    "    }\n",
    "\n",
    "    # Define the function schema for OpenAI function calling\n",
    "    function_schema = {\n",
    "        \"name\": \"get_stock_forecast\",\n",
    "        \"description\": \"Get stock price forecast for a given number of days\",\n",
    "        \"parameters\": {\n",
    "            \"type\": \"object\",\n",
    "            \"properties\": {\n",
    "                \"stock_symbol\": {\n",
    "                    \"type\": \"string\",\n",
    "                    \"description\": \"The stock symbol to forecast (e.g., 'AAPL', 'MSFT').\"\n",
    "                },\n",
    "                \"prediction_days\": {\n",
    "                    \"type\": \"integer\",\n",
    "                    \"description\": \"The number of days to forecast prices for.\"\n",
    "                }\n",
    "            },\n",
    "            \"required\": [\"stock_symbol\"]\n",
    "        }\n",
    "    }\n",
    "\n",
    "    messages = [\n",
    "        {\"role\": \"user\", \"content\": prompt}\n",
    "    ]\n",
    "\n",
    "    data = {\n",
    "        \"model\": \"gpt-4o-mini\",  \n",
    "        \"messages\": messages,\n",
    "        \"functions\": [function_schema],\n",
    "        \"function_call\": \"auto\"\n",
    "    }\n",
    "\n",
    "    response = requests.post(endpoint, headers=headers, data=json.dumps(data))\n",
    "\n",
    "    if response.status_code == 200:\n",
    "        result = response.json()\n",
    "        function_call = result[\"choices\"][0].get(\"message\", {}).get(\"function_call\")\n",
    "\n",
    "        if function_call:\n",
    "            arguments = json.loads(function_call[\"arguments\"])\n",
    "            stock_symbol = arguments[\"stock_symbol\"]\n",
    "            \n",
    "            prediction_days = arguments.get(\"prediction_days\", 10)\n",
    "            \n",
    "            forecast = get_stock_forecast(stock_symbol, prediction_days)\n",
    "            print(f\"Forecast for {stock_symbol}:\", forecast)\n",
    "        else:\n",
    "            print(result[\"choices\"][0][\"message\"][\"content\"])\n",
    "    else:\n",
    "        print(f\"Request failed with status code {response.status_code}: {response.text}\")"
   ]
  },
  {
   "cell_type": "code",
   "execution_count": 29,
   "metadata": {},
   "outputs": [
    {
     "name": "stderr",
     "output_type": "stream",
     "text": [
      "[*********************100%***********************]  1 of 1 completed\n",
      "Seed set to 1\n",
      "/Users/johtorr/Repos/llm-local-rag/.venv/lib/python3.12/site-packages/neuralforecast/common/_base_model.py:345: UserWarning: val_check_steps is greater than max_steps, setting val_check_steps to max_steps.\n",
      "  warnings.warn(\n",
      "GPU available: True (mps), used: True\n",
      "TPU available: False, using: 0 TPU cores\n",
      "HPU available: False, using: 0 HPUs\n",
      "\n",
      "  | Name         | Type          | Params | Mode \n",
      "-------------------------------------------------------\n",
      "0 | loss         | MAE           | 0      | train\n",
      "1 | padder_train | ConstantPad1d | 0      | train\n",
      "2 | scaler       | TemporalNorm  | 0      | train\n",
      "3 | blocks       | ModuleList    | 2.5 M  | train\n",
      "-------------------------------------------------------\n",
      "2.5 M     Trainable params\n",
      "1.2 K     Non-trainable params\n",
      "2.5 M     Total params\n",
      "9.830     Total estimated model params size (MB)\n",
      "31        Modules in train mode\n",
      "0         Modules in eval mode\n"
     ]
    },
    {
     "name": "stdout",
     "output_type": "stream",
     "text": [
      "Epoch 24: 100%|██████████| 1/1 [00:00<00:00, 29.82it/s, v_num=19, train_loss_step=7.250, train_loss_epoch=7.250, valid_loss=4.470]"
     ]
    },
    {
     "name": "stderr",
     "output_type": "stream",
     "text": [
      "`Trainer.fit` stopped: `max_steps=25` reached.\n"
     ]
    },
    {
     "name": "stdout",
     "output_type": "stream",
     "text": [
      "Epoch 24: 100%|██████████| 1/1 [00:00<00:00, 28.56it/s, v_num=19, train_loss_step=7.250, train_loss_epoch=7.250, valid_loss=4.470]\n"
     ]
    },
    {
     "name": "stderr",
     "output_type": "stream",
     "text": [
      "GPU available: True (mps), used: True\n",
      "TPU available: False, using: 0 TPU cores\n",
      "HPU available: False, using: 0 HPUs\n"
     ]
    },
    {
     "name": "stdout",
     "output_type": "stream",
     "text": [
      "Predicting DataLoader 0: 100%|██████████| 1/1 [00:00<00:00, 208.04it/s]\n",
      "Forecast for NVDA:    ticker                      date  prediction\n",
      "0    NVDA 2024-11-15 00:00:00+00:00  148.734985\n",
      "1    NVDA 2024-11-16 00:00:00+00:00  149.379303\n",
      "2    NVDA 2024-11-17 00:00:00+00:00  151.409531\n",
      "3    NVDA 2024-11-18 00:00:00+00:00  149.521683\n",
      "4    NVDA 2024-11-19 00:00:00+00:00  152.254272\n",
      "5    NVDA 2024-11-20 00:00:00+00:00  153.005463\n",
      "6    NVDA 2024-11-21 00:00:00+00:00  152.253403\n",
      "7    NVDA 2024-11-22 00:00:00+00:00  153.665451\n",
      "8    NVDA 2024-11-23 00:00:00+00:00  155.003418\n",
      "9    NVDA 2024-11-24 00:00:00+00:00  154.867157\n",
      "10   NVDA 2024-11-25 00:00:00+00:00  154.215607\n",
      "11   NVDA 2024-11-26 00:00:00+00:00  156.888046\n",
      "12   NVDA 2024-11-27 00:00:00+00:00  158.257233\n",
      "13   NVDA 2024-11-28 00:00:00+00:00  157.735062\n",
      "14   NVDA 2024-11-29 00:00:00+00:00  159.177231\n"
     ]
    },
    {
     "name": "stderr",
     "output_type": "stream",
     "text": [
      "/Users/johtorr/Repos/llm-local-rag/.venv/lib/python3.12/site-packages/neuralforecast/core.py:210: FutureWarning: In a future version the predictions will have the id as a column. You can set the `NIXTLA_ID_AS_COL` environment variable to adopt the new behavior and to suppress this warning.\n",
      "  warnings.warn(\n"
     ]
    }
   ],
   "source": [
    "prompt = \"Get stock price forecast for NVIDIA for 15 days\"\n",
    "stock_forecast_agent(prompt=prompt)"
   ]
  },
  {
   "cell_type": "code",
   "execution_count": null,
   "metadata": {},
   "outputs": [],
   "source": []
  }
 ],
 "metadata": {
  "kernelspec": {
   "display_name": ".venv",
   "language": "python",
   "name": "python3"
  },
  "language_info": {
   "codemirror_mode": {
    "name": "ipython",
    "version": 3
   },
   "file_extension": ".py",
   "mimetype": "text/x-python",
   "name": "python",
   "nbconvert_exporter": "python",
   "pygments_lexer": "ipython3",
   "version": "3.12.4"
  }
 },
 "nbformat": 4,
 "nbformat_minor": 2
}
